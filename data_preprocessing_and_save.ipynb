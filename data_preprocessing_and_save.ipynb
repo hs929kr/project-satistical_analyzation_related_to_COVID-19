{
 "cells": [
  {
   "cell_type": "markdown",
   "id": "ad480a33",
   "metadata": {},
   "source": [
    "### 1. 지역별 코로나 확진자 수 데이터 추출 및 전처리"
   ]
  },
  {
   "cell_type": "code",
   "execution_count": 4,
   "id": "8d11bb32",
   "metadata": {},
   "outputs": [
    {
     "name": "stdout",
     "output_type": "stream",
     "text": [
      "   region  covid_num\n",
      "0      제주       3082\n",
      "1      서울     116572\n",
      "2      인천      18824\n",
      "3      광주       5320\n",
      "4      경북       9530\n",
      "5      부산      13713\n",
      "6      대구      16772\n",
      "7      강원       7108\n",
      "8      경기     105575\n",
      "9      전남       3476\n",
      "10     충북       7739\n",
      "11     충남      10332\n",
      "12     대전       7499\n",
      "13     세종       1354\n",
      "14     전북       5043\n",
      "15     경남      12705\n",
      "16     울산       5403\n"
     ]
    }
   ],
   "source": [
    "#셀레니움, 판다스 기타 라이브러리 입력\n",
    "from selenium import webdriver\n",
    "from bs4 import BeautifulSoup\n",
    "import pandas as pd\n",
    "import time\n",
    "\n",
    "#웹드라이버, 엑셀, 페이지 경로를 수정할 수 있도록 변수 설정\n",
    "driver=webdriver.Chrome('./data/chromedriver.exe')\n",
    "excel_location='./data'\n",
    "url_region='https://search.naver.com/search.naver?where=nexearch&sm=top_hty&fbm=1&ie=utf8&query=%EC%BD%94%EB%A1%9C%EB%82%98+%ED%98%84%ED%99%A9'\n",
    "url_week='https://search.naver.com/search.naver?where=nexearch&sm=top_hty&fbm=1&ie=utf8&query=%EC%BD%94%EB%A1%9C%EB%82%98%ED%98%84%ED%99%A9'\n",
    "\n",
    "#menu버튼을 클릭하는 함수\n",
    "def select_menu(driver):\n",
    "    menu=driver.find_element_by_css_selector(\"section#_cs_production_type div.api_subject_bx div._content div.patients_info li.tab._tab a\")\n",
    "    menu.click()\n",
    "    time.sleep(2)\n",
    "    \n",
    "#드라이버를 통해 url접속\n",
    "driver.get(url_region)\n",
    "time.sleep(2)    \n",
    "\n",
    "#메뉴 클릭\n",
    "select_menu(driver)\n",
    "\n",
    "#데이터를 담을 배열 선언\n",
    "regional_confirmed_data_before=[]\n",
    "regional_confirmed_data=[]\n",
    "\n",
    "#html tag를 따라서 필요한 지역과 확진자 크롤링 \n",
    "regional_confirmed=driver.find_elements_by_css_selector('div#wrap div#container div#main_pack section#_cs_production_type div._content div.inner_box._map_root .local_info.type_increase')  \n",
    "for confirmed in regional_confirmed:\n",
    "    region=confirmed.find_elements_by_css_selector('strong.local_name')[0].text\n",
    "    num=confirmed.find_elements_by_css_selector('p.population_number')[0].text\n",
    "    regional_confirmed_data_before.append([region,int(num.replace(',',''))])\n",
    "    \n",
    "#일치하는 데이터 발생 후 생략\n",
    "for v in regional_confirmed_data_before:\n",
    "    if v not in regional_confirmed_data:\n",
    "        regional_confirmed_data.append(v)\n",
    "\n",
    "#column 설정 및 pandas data로 변환 \n",
    "region_columns=['region','covid_num']\n",
    "region_pd_data=pd.DataFrame(regional_confirmed_data,columns=region_columns)\n",
    "print(region_pd_data)"
   ]
  },
  {
   "cell_type": "markdown",
   "id": "d43db447",
   "metadata": {},
   "source": [
    "### 2. 주간 국내,해외 코로나 확진자 수 데이터 추출 및 전처리"
   ]
  },
  {
   "cell_type": "code",
   "execution_count": 5,
   "id": "40265b6c",
   "metadata": {},
   "outputs": [
    {
     "name": "stdout",
     "output_type": "stream",
     "text": [
      "    date  국내발생  해외유입\n",
      "0  10.20  1430    11\n",
      "1  10.21  1419    20\n",
      "2  10.22  1487    21\n",
      "3  10.23  1394    28\n",
      "4  10.24  1167    23\n",
      "5  10.25  1246    20\n",
      "6  10.26  1930    22\n"
     ]
    }
   ],
   "source": [
    "#마찬가지로 주간 국내외 확진자 url 접속\n",
    "driver.get(url_week)\n",
    "time.sleep(2)\n",
    "\n",
    "#데이터를 담을 배열 선언\n",
    "week_confirmed_data=[]\n",
    "\n",
    "#칼럼을 첫번째 칼럼으로 설정\n",
    "week_confirmed=driver.find_elements_by_css_selector('div.column')\n",
    "week_confirmed[0].click()\n",
    "\n",
    "#국내 해외 관련 경로 설정\n",
    "week_data_path='div#wrap div#container div#main_pack section#_cs_production_type div.patients_info div._infect_content div._normality'\n",
    "\n",
    "#국내유입,해외유입 칼럼명 획득\n",
    "local=driver.find_elements_by_css_selector(week_data_path+' .local._y_first_title')[0].text\n",
    "oversea=driver.find_elements_by_css_selector(week_data_path+' .oversea._y_second_title')[0].text\n",
    "date_cnt=0\n",
    "\n",
    "#날짜 국내확진자수 해외확진자수 데이터 크롤링\n",
    "for confirmed in week_confirmed:   \n",
    "    confirmed.click()\n",
    "    time.sleep(2)\n",
    "    week_data=driver.find_elements_by_css_selector(week_data_path+' div.turnout_cont .graph_inner .data .x_axis_value')[date_cnt].text\n",
    "    local_val=driver.find_elements_by_css_selector(week_data_path+' div.turnout_graph._graph div.info_wrap .desc._y_first_value')[0].text\n",
    "    oversea_val=driver.find_elements_by_css_selector(week_data_path+' div.turnout_graph._graph div.info_wrap .desc._y_second_value')[0].text\n",
    "    week_confirmed_data.append([week_data,int(local_val.replace(',','')) , int(oversea_val.replace(',',''))])\n",
    "    date_cnt+=1\n",
    "\n",
    "#칼럼명 설정\n",
    "week_columns=['date',local,oversea]\n",
    "\n",
    "#주간 국내외 확진자 pands data 변환\n",
    "week_pd_data=pd.DataFrame(week_confirmed_data,columns=week_columns)\n",
    "print(week_pd_data)\n"
   ]
  },
  {
   "cell_type": "markdown",
   "id": "5b7388f5",
   "metadata": {},
   "source": [
    "### 3. 각각 데이터 엑셀 저장"
   ]
  },
  {
   "cell_type": "code",
   "execution_count": 8,
   "id": "dc3ddfb9",
   "metadata": {},
   "outputs": [],
   "source": [
    "region_pd_data.to_excel(excel_location+'\\\\regional_confirmed.xlsx',index=False)\n",
    "week_pd_data.to_excel(excel_location+'\\\\week_confirmed.xlsx',index=False)"
   ]
  },
  {
   "cell_type": "markdown",
   "id": "dde78fd2",
   "metadata": {},
   "source": [
    "### 4. 각각 데이터 mysql 테이블 저장"
   ]
  },
  {
   "cell_type": "markdown",
   "id": "9c107d99",
   "metadata": {},
   "source": [
    "###### 주의, shema 미리 준비  - SchemaName : covid"
   ]
  },
  {
   "cell_type": "code",
   "execution_count": 9,
   "id": "54ece318",
   "metadata": {},
   "outputs": [],
   "source": [
    "#라이브러리 추가\n",
    "import pymysql\n",
    "\n",
    "#mysql 스케마에 접속\n",
    "conn=pymysql.connect(host='127.0.0.1',user='root',password='1234',db='covid',charset='utf8')\n",
    "#커서 넘겨주고\n",
    "cur=conn.cursor()\n",
    "\n",
    "#지역별, 주간국내외 테이블 제작\n",
    "cur.execute(\"drop table if exists regional_covid_table\")\n",
    "cur.execute(\"create table regional_covid_table (region char(2), covid_num int)\")\n",
    "\n",
    "cur.execute(\"drop table if exists week_covid_table\")\n",
    "cur.execute(\"create table week_covid_table (day char(5) ,local int, oversea int)\")\n",
    "\n",
    "#수행할 sql문\n",
    "sql1=\"\"\"insert into regional_covid_table(region,covid_num) values (%s,%s)\"\"\"\n",
    "sql2=\"\"\"insert into week_covid_table(day,local,oversea) values (%s, %s,%s)\"\"\"\n",
    "\n",
    "\n",
    "#크롤링 데이터를 테이블에 입력\n",
    "for data in regional_confirmed_data:\n",
    "    cur.execute(sql1,(data[0],data[1]))\n",
    "for data in week_confirmed_data:\n",
    "    cur.execute(sql2,(data[0],data[1],data[2]))\n",
    "\n",
    "#커밋하고\n",
    "conn.commit()\n",
    "#접속 종료\n",
    "conn.close()"
   ]
  }
 ],
 "metadata": {
  "kernelspec": {
   "display_name": "Python 3",
   "language": "python",
   "name": "python3"
  },
  "language_info": {
   "codemirror_mode": {
    "name": "ipython",
    "version": 3
   },
   "file_extension": ".py",
   "mimetype": "text/x-python",
   "name": "python",
   "nbconvert_exporter": "python",
   "pygments_lexer": "ipython3",
   "version": "3.6.7"
  }
 },
 "nbformat": 4,
 "nbformat_minor": 5
}
